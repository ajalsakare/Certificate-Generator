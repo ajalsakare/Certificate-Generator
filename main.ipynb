{
 "cells": [
  {
   "cell_type": "code",
   "execution_count": 1,
   "id": "33b1b37f",
   "metadata": {},
   "outputs": [
    {
     "name": "stdout",
     "output_type": "stream",
     "text": [
      "Requirement already satisfied: mysql-connector-python in c:\\users\\anike\\appdata\\local\\programs\\python\\python38\\lib\\site-packages (8.0.30)\n",
      "Requirement already satisfied: protobuf<=3.20.1,>=3.11.0 in c:\\users\\anike\\appdata\\local\\programs\\python\\python38\\lib\\site-packages (from mysql-connector-python) (3.19.1)\n"
     ]
    },
    {
     "name": "stderr",
     "output_type": "stream",
     "text": [
      "WARNING: You are using pip version 22.0.3; however, version 22.2.2 is available.\n",
      "You should consider upgrading via the 'c:\\users\\anike\\appdata\\local\\programs\\python\\python38\\python.exe -m pip install --upgrade pip' command.\n"
     ]
    }
   ],
   "source": [
    "!pip install mysql-connector-python"
   ]
  },
  {
   "cell_type": "markdown",
   "id": "dce9255d",
   "metadata": {},
   "source": [
    "### Import Standard Libraries"
   ]
  },
  {
   "cell_type": "code",
   "execution_count": 2,
   "id": "dcfc3c8d",
   "metadata": {},
   "outputs": [],
   "source": [
    "import mysql\n",
    "from mysql import connector\n",
    "import random\n",
    "import string\n",
    "import pandas as pd\n",
    "import cv2\n",
    "import numpy as np\n",
    "from PIL import ImageFont, ImageDraw, Image\n",
    "\n",
    "creds = {'host': 'localhost',\n",
    "         'user': 'root',\n",
    "         'password': 'root',\n",
    "         'database': 'zep'}"
   ]
  },
  {
   "cell_type": "markdown",
   "id": "5ae5088d",
   "metadata": {},
   "source": [
    "### Helper Functions\n",
    "\n",
    "1. `connect_database()` - Helps you connect to a database.\n",
    "2. `check_table()` - Checks if a specific table already exists else creates a new one.\n",
    "3. `show_table()` - Shows all records present in a table.\n",
    "4. `check_uid()` - Checks if current generated ID already exists.\n",
    "5. `generate_uid()` - Generates Unique ID of a specific length."
   ]
  },
  {
   "cell_type": "code",
   "execution_count": 3,
   "id": "83004aaf",
   "metadata": {},
   "outputs": [],
   "source": [
    "def connect_database(creds):\n",
    "    \"\"\"\n",
    "    Argument: Takes a dictionary containing credentials[host, user, password, database] for connecting to the database.\n",
    "    Returns: Database connection object\n",
    "    \"\"\"\n",
    "    \n",
    "    conn = connector.connect(host=creds['host'],\n",
    "                             user=creds['user'],\n",
    "                             password=creds['password'],\n",
    "                             database=creds['database'])\n",
    "    if conn.is_connected():\n",
    "        print(f\"-------------------------------------------------------------------------------------------------------\\n\",\n",
    "              f\"Connection to DATABASE:{creds['database']} by USER:{creds['user']} is successfully established\")\n",
    "        \n",
    "    return conn \n",
    "\n",
    "\n",
    "def check_table(conn, table):\n",
    "    \"\"\"\n",
    "    Argument: Takes a connection object and table name and creates table if it doesn't already exists.\n",
    "    \"\"\"\n",
    "    \n",
    "    cursor = conn.cursor(buffered=True)\n",
    "    try:\n",
    "        cursor.execute(f\"SELECT *FROM {table};\")\n",
    "        print(f'-------------------------------------------------------------------------------------------------------\\n',\n",
    "              f'TABLE:{table} already exists')\n",
    "    except mysql.connector.Error as err:\n",
    "        print('-------------------------------------------------------------------------------------------------------\\n',\n",
    "              'MESSAGE: ', err.msg)\n",
    "        cursor.execute(f\"CREATE TABLE {table}(UID varchar(100), NAME varchar(100));\")\n",
    "        print(f'-------------------------------------------------------------------------------------------------------\\n',\n",
    "              f'MESSAGE: Table {table} created successfully')\n",
    "    print('-------------------------------------------------------------------------------------------------------')\n",
    "        \n",
    "    return cursor\n",
    "\n",
    "def show_table(conn, table):\n",
    "    \"\"\"\n",
    "    Arguments: Takes a connection object and table name and displays all the records available in the table.\n",
    "    \"\"\"\n",
    "    \n",
    "    cursor = conn.cursor(buffered=True)\n",
    "    try:\n",
    "        cursor.execute(f'SELECT *FROM {table}')\n",
    "        for r in cursor:\n",
    "            print(r)\n",
    "    except mysql.connector.Error as err:\n",
    "        print(f'ERROR MSG: {err.msg}')\n",
    "        \n",
    "def check_uid(uid_list, uid):\n",
    "    \n",
    "    flag = False\n",
    "    \n",
    "    for i in uid_list:\n",
    "        if uid == i[0]:\n",
    "            flag = True\n",
    "            break\n",
    "            \n",
    "    return flag\n",
    "\n",
    "def generate_uid(length):\n",
    "    return ''.join([random.choice(string.ascii_letters + string.digits) for i in range(length)])"
   ]
  },
  {
   "cell_type": "markdown",
   "id": "b4b69da8",
   "metadata": {},
   "source": [
    "## Flow of the Application\n",
    "\n",
    "1. Establish a Database Connection\n",
    "2. Read all the names\n",
    "3. Load the certificate template\n",
    "4. For each name:\n",
    "    1. Put name on template\n",
    "    2. Generate UID\n",
    "    3. Put UID on template\n",
    "    4. Verify and Insert (UID, NAME) into table"
   ]
  },
  {
   "cell_type": "code",
   "execution_count": 4,
   "id": "a38ab45b",
   "metadata": {},
   "outputs": [
    {
     "name": "stdout",
     "output_type": "stream",
     "text": [
      "-------------------------------------------------------------------------------------------------------\n",
      " Connection to DATABASE:zep by USER:root is successfully established\n",
      "-------------------------------------------------------------------------------------------------------\n",
      " TABLE:certificates already exists\n",
      "-------------------------------------------------------------------------------------------------------\n",
      " Certificate generating... 119\r"
     ]
    }
   ],
   "source": [
    "# Establish a connection with respective database\n",
    "conn_obj = connect_database(creds)\n",
    "\n",
    "# Check if required table exists or create a new one\n",
    "mycursor = check_table(conn_obj, 'certificates')\n",
    "\n",
    "# Read the excel file and create a list of names to iterate through\n",
    "df = pd.read_excel('/Users/anike/Zep Analytics/Certificate Generator/Names.xlsx')\n",
    "names = list(df['Names'])\n",
    "\n",
    "# --------------------------------- Static Variables ------------------\n",
    "\n",
    "X_BOX = 260\n",
    "Y_BOX = 567\n",
    "\n",
    "X = 1013 \n",
    "Y = 705\n",
    "\n",
    "X_UID = 1260\n",
    "Y_UID = 1120\n",
    "UID_FONT_SIZE = 40\n",
    "\n",
    "insert_records = (\"INSERT INTO certificates \"\n",
    "                  \"(UID, Name) \"\n",
    "                  \"VALUES (%(UID)s, %(Name)s)\")\n",
    "\n",
    "CERTIFICATE_FOLDER_PATH = 'C:/Users/anike/Zep Analytics/Certificate Generator/Generated Certificates'\n",
    "\n",
    "# ---------------------------------------------------------------------\n",
    "\n",
    "for index, name in enumerate(names):\n",
    "    \n",
    "    # ================================= CERTIFICATE GENERATION ===========================\n",
    "    \n",
    "    temp = cv2.imread(\"Certificate Template.png\")\n",
    "    UID = generate_uid(16)\n",
    "    \n",
    "    # draw rectangle\n",
    "    cv2.rectangle(temp, (X_BOX, Y_BOX), (X_BOX + 1506, Y_BOX + 185), (256, 256, 256), 2)\n",
    "    \n",
    "    # converting opencv's BGR format to PIL's RGB format to load as PIL object\n",
    "    temp_in_rgb = cv2.cvtColor(temp, cv2.COLOR_BGR2RGB)\n",
    "    pil_img = Image.fromarray(temp_in_rgb)\n",
    "    draw = ImageDraw.Draw(pil_img)\n",
    "    \n",
    "    if len(name) > 29:\n",
    "        font_size = 110\n",
    "    elif len(name) > 26:\n",
    "        font_size = 120\n",
    "    else:\n",
    "        font_size = 130\n",
    " \n",
    "    font = ImageFont.truetype(\"/Windows/Fonts/MTCORSVA.TTF\", font_size)\n",
    "    font2 = ImageFont.truetype('/Windows/Fonts/CALIFI.TTF', UID_FONT_SIZE)\n",
    "    \n",
    "    # anchor = 'ms' helps to align the text into the center of the coordinates passed\n",
    "    draw.text((X, Y), name, font=font, fill=(0, 0, 0), anchor='ms')\n",
    "    draw.text((X_UID, Y_UID), UID, font=font2, fill=(0, 0, 0))\n",
    "     \n",
    "    # converting PIL's RGB format to Opencv's BRG format again    \n",
    "    cv2_img_processed = cv2.cvtColor(np.array(pil_img), cv2.COLOR_RGB2BGR)\n",
    "    \n",
    "    # cv2.putText(temp, name, (X, Y), cv2.FONT_HERSHEY_COMPLEX, get_optimal_font_scale(name, 1506), (0, 0, 0), 1, cv2.LINE_AA)\n",
    "    cv2.imwrite(f'{CERTIFICATE_FOLDER_PATH}/{name} Certificate.jpg', cv2_img_processed)\n",
    "    print(' Certificate generating...', index, end='\\r')\n",
    "    \n",
    "    # ================================= DATABASE INSERTION =================================\n",
    "    \n",
    "    # create a dictionary to insert record into the table\n",
    "    data = {\n",
    "    'UID': UID,\n",
    "    'Name': name\n",
    "    }\n",
    "    \n",
    "    # Extract all the existing UID's \n",
    "    mycursor.execute(f'SELECT UID FROM certificates')\n",
    "    existing_uids = mycursor.fetchall()\n",
    "    \n",
    "    # check if current generated id is present in existing ID's\n",
    "    while check_uid(existing_uids, UID) == True:\n",
    "        UID = generate_uid(16)\n",
    "    \n",
    "    # Insert record into the table\n",
    "    mycursor.execute(insert_records, data)\n",
    "    \n",
    "    # Uncomment/comment this to see progress\n",
    "    # print('Name: ', name, 'with UID: ', UID, 'inserted successfully')"
   ]
  },
  {
   "cell_type": "code",
   "execution_count": 5,
   "id": "29b3affb",
   "metadata": {},
   "outputs": [],
   "source": [
    "# df = pd.read_excel('/Users/anike/Zep Analytics/Certificate Generator/Names.xlsx')\n",
    "# names = list(df['Names'])\n",
    "\n",
    "# insert_records = (\"INSERT INTO certificates \"\n",
    "#                   \"(UID, Name) \"\n",
    "#                   \"VALUES (%(UID)s, %(Name)s)\")\n",
    "\n",
    "# for name in names:\n",
    "    \n",
    "#     # generate unique id\n",
    "#     UID = generate_uid(16)\n",
    "    \n",
    "#     # create a dictionary to insert record into the table\n",
    "#     data = {\n",
    "#     'UID': UID,\n",
    "#     'Name': name\n",
    "#     }\n",
    "    \n",
    "#     # Extract all the existing UID's \n",
    "#     mycursor.execute(f'SELECT UID FROM certificates')\n",
    "#     existing_uids = mycursor.fetchall()\n",
    "    \n",
    "#     # check if current generated id is present in existing ID's\n",
    "#     while check_uid(existing_uids, UID) == True:\n",
    "#         UID = generate_uid(16)\n",
    "    \n",
    "#     # Insert record into the table\n",
    "#     mycursor.execute(insert_records, data)\n",
    "    \n",
    "#     print('Name: ', name, 'with UID: ', UID, 'inserted successfully')"
   ]
  },
  {
   "cell_type": "code",
   "execution_count": 6,
   "id": "1866ccf3",
   "metadata": {},
   "outputs": [
    {
     "name": "stdout",
     "output_type": "stream",
     "text": [
      "('QS5ote3Na3QdtMET', 'Aniket Jalasakare')\n",
      "('fE1F41mSntpXVR9Y', 'Aadesh Thorat')\n",
      "('KhYm05QBaM6kXQQK', 'Jay Charole')\n",
      "('EW27tvCM41yPEZ1m', 'Malhar Jadhav')\n",
      "('D2HYQkncTaCWKywz', 'Ramakrishnan Gopalswami')\n",
      "('opDEDjACHUTdfn3C', 'Raamakrishnan Gopalswami')\n",
      "('rkNLDAJCZNi0b4S8', 'Raamaakrishnan Gopalswami')\n",
      "('CpcK2MSAi58z6ZOv', 'Raammaakrishnan Gopalswami')\n",
      "('CI7SMHVG1bj3Jwqe', 'Raammaakkrishnan Gopalswami')\n",
      "('afXRSU93UKf1fBmV', 'Raammaakkrishnan Gopaalswami')\n",
      "('686gxrcAimCaECes', 'Raammaakkrishnan Gopaalswaami')\n",
      "('C693wRXQdKSM1W1a', 'Raammaakkrishnan Gopaalswaammi')\n"
     ]
    }
   ],
   "source": [
    "show_table(conn_obj, 'certificates')"
   ]
  },
  {
   "cell_type": "code",
   "execution_count": 7,
   "id": "7696497c",
   "metadata": {},
   "outputs": [
    {
     "data": {
      "text/plain": [
       "12"
      ]
     },
     "execution_count": 7,
     "metadata": {},
     "output_type": "execute_result"
    }
   ],
   "source": [
    "mycursor.execute('SELECT *FROM certificates;')\n",
    "result = mycursor.fetchall()\n",
    "len(result)"
   ]
  },
  {
   "cell_type": "code",
   "execution_count": 8,
   "id": "14851c1e",
   "metadata": {},
   "outputs": [],
   "source": [
    "mycursor.execute('DROP TABLE certificates')"
   ]
  },
  {
   "cell_type": "code",
   "execution_count": null,
   "id": "c353cc97",
   "metadata": {},
   "outputs": [],
   "source": []
  }
 ],
 "metadata": {
  "kernelspec": {
   "display_name": "Python 3 (ipykernel)",
   "language": "python",
   "name": "python3"
  },
  "language_info": {
   "codemirror_mode": {
    "name": "ipython",
    "version": 3
   },
   "file_extension": ".py",
   "mimetype": "text/x-python",
   "name": "python",
   "nbconvert_exporter": "python",
   "pygments_lexer": "ipython3",
   "version": "3.8.0"
  }
 },
 "nbformat": 4,
 "nbformat_minor": 5
}
